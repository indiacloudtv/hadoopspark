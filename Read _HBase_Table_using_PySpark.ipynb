{
 "cells": [
  {
   "cell_type": "markdown",
   "metadata": {},
   "source": [
    "# Configure Spark to Python Jupyter"
   ]
  },
  {
   "cell_type": "code",
   "execution_count": 1,
   "metadata": {},
   "outputs": [],
   "source": [
    "#Setting Spark installation location to jupyter\n",
    "import os\n",
    "import sys\n",
    "os.environ[\"SPARK_HOME\"] = \"/opt/cloudera/parcels/CDH-6.2.0-1.cdh6.2.0.p0.967373/lib/spark\"\n",
    "os.environ[\"PYLIB\"] = os.environ[\"SPARK_HOME\"] + \"/python/lib\"\n",
    "# In below two lines, use /usr/bin/python2.7 if you want to use Python 2\n",
    "os.environ[\"PYSPARK_PYTHON\"] = \"/home/hadoop/anaconda2/bin/python\" \n",
    "os.environ[\"PYSPARK_DRIVER_PYTHON\"] = \"/home/hadoop/anaconda2/bin/python\"\n",
    "sys.path.insert(0, os.environ[\"PYLIB\"] +\"/py4j-0.10.7-src.zip\")\n",
    "sys.path.insert(0, os.environ[\"PYLIB\"] +\"/pyspark.zip\")"
   ]
  },
  {
   "cell_type": "code",
   "execution_count": 2,
   "metadata": {},
   "outputs": [],
   "source": [
    "# To find out where the pyspark\n",
    "import findspark\n",
    "findspark.init()"
   ]
  },
  {
   "cell_type": "markdown",
   "metadata": {},
   "source": [
    "<a href='https://spark.apache.org/docs/latest/api/python/pyspark.sql.html?highlight=explode#pyspark.sql.SparkSession.Builder.enableHiveSupport'>PySpark API Docs</a>"
   ]
  },
  {
   "cell_type": "markdown",
   "metadata": {},
   "source": [
    "# Create SparkSession object to connect the Spark Cluster"
   ]
  },
  {
   "cell_type": "code",
   "execution_count": 3,
   "metadata": {},
   "outputs": [],
   "source": [
    "from pyspark.sql import SparkSession\n",
    "spark = SparkSession \\\n",
    "    .builder \\\n",
    "    .appName(\"Read HBase Table using PySpark Demo\") \\\n",
    "    .config(\"spark.jars\", \"/opt/cloudera/parcels/CDH-6.2.0-1.cdh6.2.0.p0.967373/lib/hive/lib/hive-hbase-handler-2.1.1-cdh6.2.0.jar\") \\\n",
    "    .config(\"spark.executor.extraClassPath\", \"/opt/cloudera/parcels/CDH-6.2.0-1.cdh6.2.0.p0.967373/lib/hive/lib/hive-hbase-handler-2.1.1-cdh6.2.0.jar\") \\\n",
    "    .config(\"spark.executor.extraLibrary\", \"/opt/cloudera/parcels/CDH-6.2.0-1.cdh6.2.0.p0.967373/lib/hive/lib/hive-hbase-handler-2.1.1-cdh6.2.0.jar\") \\\n",
    "    .config(\"spark.driver.extraClassPath\", \"/opt/cloudera/parcels/CDH-6.2.0-1.cdh6.2.0.p0.967373/lib/hive/lib/hive-hbase-handler-2.1.1-cdh6.2.0.jar\") \\\n",
    "    .enableHiveSupport()\\\n",
    "    .getOrCreate()"
   ]
  },
  {
   "cell_type": "code",
   "execution_count": 4,
   "metadata": {},
   "outputs": [
    {
     "name": "stdout",
     "output_type": "stream",
     "text": [
      "Read HBase Table using PySpark Demo\n"
     ]
    }
   ],
   "source": [
    "print(spark.sparkContext.appName)"
   ]
  },
  {
   "cell_type": "markdown",
   "metadata": {},
   "source": [
    "# Read HBase Table using SparkSession Object"
   ]
  },
  {
   "cell_type": "code",
   "execution_count": 5,
   "metadata": {},
   "outputs": [],
   "source": [
    "transaction_detail_df = spark.sql(\"use default\")\n",
    "transaction_detail_df = spark.sql(\"select * from transaction_detail_hive_tbl\")\n",
    "#transaction_detail_df = spark.sql(\"select * from default.transaction_detail_hive_tbl\")"
   ]
  },
  {
   "cell_type": "code",
   "execution_count": 6,
   "metadata": {},
   "outputs": [
    {
     "name": "stdout",
     "output_type": "stream",
     "text": [
      "root\n",
      " |-- transaction_id: integer (nullable = true)\n",
      " |-- transaction_card_type: string (nullable = true)\n",
      " |-- transaction_ecommerce_website_name: string (nullable = true)\n",
      " |-- transaction_product_name: string (nullable = true)\n",
      " |-- transaction_datetime: string (nullable = true)\n",
      " |-- transaction_amount: double (nullable = true)\n",
      " |-- transaction_city_name: string (nullable = true)\n",
      " |-- transaction_country_name: string (nullable = true)\n",
      "\n"
     ]
    }
   ],
   "source": [
    "transaction_detail_df.printSchema()"
   ]
  },
  {
   "cell_type": "code",
   "execution_count": 7,
   "metadata": {},
   "outputs": [
    {
     "name": "stdout",
     "output_type": "stream",
     "text": [
      "+--------------+---------------------+----------------------------------+------------------------+--------------------+------------------+---------------------+------------------------+\n",
      "|transaction_id|transaction_card_type|transaction_ecommerce_website_name|transaction_product_name|transaction_datetime|transaction_amount|transaction_city_name|transaction_country_name|\n",
      "+--------------+---------------------+----------------------------------+------------------------+--------------------+------------------+---------------------+------------------------+\n",
      "|1             |MasterCard           |www.ebay.com                      |Laptop                  |2019-05-14 15:24:12 |50.85             |Mumbai               |India                   |\n",
      "|2             |MasterCard           |www.amazon.com                    |Wrist Band              |2019-05-14 15:24:13 |259.12            |Pune                 |India                   |\n",
      "+--------------+---------------------+----------------------------------+------------------------+--------------------+------------------+---------------------+------------------------+\n",
      "only showing top 2 rows\n",
      "\n"
     ]
    }
   ],
   "source": [
    "transaction_detail_df.show(2, False)"
   ]
  },
  {
   "cell_type": "code",
   "execution_count": 8,
   "metadata": {},
   "outputs": [
    {
     "data": {
      "text/plain": [
       "5"
      ]
     },
     "execution_count": 8,
     "metadata": {},
     "output_type": "execute_result"
    }
   ],
   "source": [
    "transaction_detail_df.count()"
   ]
  },
  {
   "cell_type": "code",
   "execution_count": 9,
   "metadata": {},
   "outputs": [],
   "source": [
    "transaction_detail_df_stg1 = transaction_detail_df.select(\"transaction_card_type\", \"transaction_country_name\", \"transaction_amount\")"
   ]
  },
  {
   "cell_type": "code",
   "execution_count": 10,
   "metadata": {},
   "outputs": [
    {
     "name": "stdout",
     "output_type": "stream",
     "text": [
      "+---------------------+------------------------+------------------+\n",
      "|transaction_card_type|transaction_country_name|transaction_amount|\n",
      "+---------------------+------------------------+------------------+\n",
      "|MasterCard           |India                   |50.85             |\n",
      "|MasterCard           |India                   |259.12            |\n",
      "|MasterCard           |United States           |328.16            |\n",
      "|Visa                 |India                   |399.06            |\n",
      "|Visa                 |Italy                   |194.52            |\n",
      "+---------------------+------------------------+------------------+\n",
      "\n"
     ]
    }
   ],
   "source": [
    "transaction_detail_df_stg1.show(5, False)"
   ]
  },
  {
   "cell_type": "code",
   "execution_count": 11,
   "metadata": {},
   "outputs": [
    {
     "name": "stdout",
     "output_type": "stream",
     "text": [
      "+---------------------+-----------------------+\n",
      "|transaction_card_type|sum(transaction_amount)|\n",
      "+---------------------+-----------------------+\n",
      "|                 Visa|                 593.58|\n",
      "|           MasterCard|      638.1300000000001|\n",
      "+---------------------+-----------------------+\n",
      "\n"
     ]
    }
   ],
   "source": [
    "transaction_detail_df_stg1.groupby('transaction_card_type').agg({'transaction_amount': 'sum'}).show()"
   ]
  },
  {
   "cell_type": "code",
   "execution_count": 12,
   "metadata": {},
   "outputs": [],
   "source": [
    "spark.stop()"
   ]
  },
  {
   "cell_type": "code",
   "execution_count": null,
   "metadata": {},
   "outputs": [],
   "source": []
  }
 ],
 "metadata": {
  "kernelspec": {
   "display_name": "Python 2",
   "language": "python",
   "name": "python2"
  },
  "language_info": {
   "codemirror_mode": {
    "name": "ipython",
    "version": 2
   },
   "file_extension": ".py",
   "mimetype": "text/x-python",
   "name": "python",
   "nbconvert_exporter": "python",
   "pygments_lexer": "ipython2",
   "version": "2.7.16"
  }
 },
 "nbformat": 4,
 "nbformat_minor": 2
}
